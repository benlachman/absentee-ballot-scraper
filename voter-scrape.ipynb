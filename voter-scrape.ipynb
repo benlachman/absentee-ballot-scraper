{
 "cells": [
  {
   "cell_type": "code",
   "execution_count": 75,
   "metadata": {},
   "outputs": [],
   "source": [
    "from bs4 import BeautifulSoup\n",
    "import requests\n",
    "import re\n",
    "import pandas"
   ]
  },
  {
   "cell_type": "code",
   "execution_count": 35,
   "metadata": {},
   "outputs": [],
   "source": [
    "url = \"https://lookup.boe.ohio.gov/vtrapp/athens/avlookup.aspx\""
   ]
  },
  {
   "cell_type": "code",
   "execution_count": 36,
   "metadata": {},
   "outputs": [],
   "source": [
    " #Get the original page\n",
    "response = requests.get(url)"
   ]
  },
  {
   "cell_type": "code",
   "execution_count": 43,
   "metadata": {},
   "outputs": [],
   "source": [
    "response_soup = BeautifulSoup(response.content)"
   ]
  },
  {
   "cell_type": "code",
   "execution_count": 44,
   "metadata": {},
   "outputs": [],
   "source": [
    "# curl 'https://lookup.boe.ohio.gov/vtrapp/athens/avlookup.aspx' \\\n",
    "#   -H 'authority: lookup.boe.ohio.gov' \\\n",
    "#   -H 'cache-control: max-age=0' \\\n",
    "#   -H 'origin: https://lookup.boe.ohio.gov' \\\n",
    "#   -H 'upgrade-insecure-requests: 1' \\\n",
    "#   -H 'dnt: 1' \\\n",
    "#   -H 'content-type: application/x-www-form-urlencoded' \\\n",
    "#   -H 'user-agent: Mozilla/5.0 (Macintosh; Intel Mac OS X 10_15_7) AppleWebKit/537.36 (KHTML, like Gecko) Chrome/86.0.4240.111 Safari/537.36' \\\n",
    "#   -H 'accept: text/html,application/xhtml+xml,application/xml;q=0.9,image/avif,image/webp,image/apng,*/*;q=0.8,application/signed-exchange;v=b3;q=0.9' \\\n",
    "#   -H 'sec-fetch-site: same-origin' \\\n",
    "#   -H 'sec-fetch-mode: navigate' \\\n",
    "#   -H 'sec-fetch-user: ?1' \\\n",
    "#   -H 'sec-fetch-dest: document' \\\n",
    "#   -H 'referer: https://lookup.boe.ohio.gov/vtrapp/athens/avlookup.aspx' \\\n",
    "#   -H 'accept-language: en-US,en;q=0.9' \\\n",
    "#   -H 'cookie: _ga=GA1.2.1662054538.1572970731; __cfduid=d1db2dc7146ccac0c64541b5d5540b7fc1604168643; _gid=GA1.2.886396333.1604168645; _gat_gtag_UA_127176238_3=1' \\\n",
    "#   --data-raw '__LASTFOCUS=&__EVENTTARGET=&__EVENTARGUMENT=\n",
    "#    &__VIEWSTATE=...\n",
    "#    &__VIEWSTATEGENERATOR=B6786635\n",
    "#    &__EVENTVALIDATION=...\n",
    "#    &cmbelectionlist=20201103G\n",
    "#    &frmLname=Lachman\n",
    "#    &frmfname=Benjamin\n",
    "#    &btnsubmit=Submit\n",
    "#    &txt_byear=&txt_bmvid=&hid_byear=&hid_bmvid=&hid_app=' \\\n",
    "#   --compressed"
   ]
  },
  {
   "cell_type": "code",
   "execution_count": 78,
   "metadata": {},
   "outputs": [],
   "source": [
    "#Scrape the state data we need to validate the form request\n",
    "def get_status(fname, lname, response):\n",
    "    viewstate = response.find('input' , id ='__VIEWSTATE')['value']\n",
    "    eventvalidation=response.find('input' , id ='__EVENTVALIDATION')['value']\n",
    "    viewstategenerator=response.find('input' , id ='__VIEWSTATEGENERATOR')['value']\n",
    "    params={'__EVENTTARGET':'','__EVENTARGUMENT':'','__VIEWSTATE':viewstate,\n",
    "            '__VIEWSTATEGENERATOR':viewstategenerator,\n",
    "            '__EVENTVALIDATION':eventvalidation,\n",
    "            'cmbelectionlist':'20201103G',\n",
    "            'frmLname':lname,\n",
    "            'frmfname':fname,\n",
    "            'btnsubmit':'Submit'}\n",
    "\n",
    "    #Use the validation data when making the request for all current applications\n",
    "    r = requests.post(url, data=params)\n",
    "    soup = BeautifulSoup(r.text, \"html.parser\")\n",
    "    \n",
    "    results = next(iter(soup.select('#numresults p')), None)\n",
    "    regex = r'Total Records found:\\s?(\\d+)'\n",
    "    \n",
    "    if results is None:\n",
    "        return\n",
    "    \n",
    "    match = re.search(regex,results.text)\n",
    "    \n",
    "    if match.group(1) == '0':\n",
    "        print('no matches')\n",
    "        return\n",
    "    \n",
    "    lines = next(iter(soup.select('#tblvtrlist p')), None).text.split('\\n')\n",
    "    print([y for y in map(lambda x: x.strip(), lines) if len(y) != 0])\n",
    "\n",
    "#     for tag in soup.find_all('td'):\n",
    "#         print(tag)"
   ]
  },
  {
   "cell_type": "code",
   "execution_count": 77,
   "metadata": {},
   "outputs": [
    {
     "name": "stdout",
     "output_type": "stream",
     "text": [
      "HANNAH MARIE ADKINS\n",
      "['Date Approved for Counting: 10/13/2020', 'Your ballot has been received and will be included in the election night results.']\n",
      "JAMES M ALLEN\n",
      "no matches\n",
      "ALIA A ANDERSON\n",
      "no matches\n",
      "COLLIN ANDREW AROCHO\n",
      "[]\n",
      "EMILY N BAILS\n",
      "['Date Approved for Counting: 10/21/2020', 'Your ballot has been received and will be included in the election night results.']\n",
      "DONNA J BARNHART\n",
      "no matches\n",
      "NORMA JEAN BARTLETT\n",
      "no matches\n",
      "ROGER LEE BARTLETT\n",
      "no matches\n",
      "ANGELICA LEE BELL\n",
      "no matches\n",
      "KARA DAWNE BOLIN\n",
      "no matches\n",
      "LEWIS G BREWSTER\n",
      "no matches\n",
      "STANLEY WAYNE BROWN\n",
      "no matches\n",
      "GERARD M BURKE\n",
      "['Date Approved for Counting: 10/23/2020', 'Your ballot has been received and will be included in the election night results.']\n",
      "ELLA RACHAEL BUSCH\n",
      "['Date Approved for Counting: 10/16/2020', 'Your ballot has been received and will be included in the election night results.']\n",
      "JENNIFER KAYE CAIN\n",
      "no matches\n",
      "JEREMY ALAM CAIN\n",
      "no matches\n",
      "CLIFFORD LEON CANTER\n",
      "no matches\n",
      "GRIFFIN E CHMIEL\n",
      "['Date Approved for Counting: 10/23/2020', 'Your ballot has been received and will be included in the election night results.']\n",
      "VICKI LYNN COLLINS\n",
      "no matches\n",
      "ERIK DANIEL CONOVER\n",
      "['Date Approved for Counting: 10/28/2020', 'Your ballot has been received and will be included in the election night results.']\n",
      "KENNETH CLINTON COTTRILL\n",
      "['Date Approved for Counting: 10/13/2020', 'Your ballot has been received and will be included in the election night results.']\n",
      "JAMES MICHAEL CREMEANS\n",
      "['Date Approved for Counting: 10/19/2020', 'Your ballot has been received and will be included in the election night results.']\n",
      "KYLIE IRENE CUMMINGS\n",
      "no matches\n",
      "ANNABELLE KATHLEEN DAILEY\n",
      "no matches\n",
      "LEVI M DAVIS\n",
      "no matches\n",
      "PAUL FREDERICK DAVIS\n",
      "[]\n",
      "AMANDA S DECKER\n",
      "no matches\n",
      "DAWN RENEE DEPUTY\n",
      "no matches\n",
      "REBECCA L DOUGLAS\n",
      "no matches\n",
      "HOLLY MARIE FITCH\n",
      "no matches\n"
     ]
    }
   ],
   "source": [
    "df = pandas.read_csv('csv/athens-absentee_list-2020_08_13-final.csv')\n",
    "\n",
    "for index, row in df[:30].iterrows():\n",
    "    print(f'{row[\"FIRSTN\"]} {row[\"MIDDLEN\"]} {row[\"LASTN\"]}')       \n",
    "    get_status(fname=row['FIRSTN'], lname=row['LASTN'], response=response_soup)       "
   ]
  },
  {
   "cell_type": "code",
   "execution_count": null,
   "metadata": {},
   "outputs": [],
   "source": []
  }
 ],
 "metadata": {
  "kernelspec": {
   "display_name": "Python 3",
   "language": "python",
   "name": "python3"
  },
  "language_info": {
   "codemirror_mode": {
    "name": "ipython",
    "version": 3
   },
   "file_extension": ".py",
   "mimetype": "text/x-python",
   "name": "python",
   "nbconvert_exporter": "python",
   "pygments_lexer": "ipython3",
   "version": "3.8.6"
  }
 },
 "nbformat": 4,
 "nbformat_minor": 4
}
